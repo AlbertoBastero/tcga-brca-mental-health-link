{
 "cells": [
  {
   "cell_type": "code",
   "execution_count": 1,
   "id": "51afe73b",
   "metadata": {},
   "outputs": [],
   "source": [
    "import pandas as pd\n",
    "\n",
    "df = pd.read_csv(\"scraped_data_in_treatment/Alternative Medicine.csv\")"
   ]
  },
  {
   "cell_type": "code",
   "execution_count": 2,
   "id": "19f436e4",
   "metadata": {},
   "outputs": [
    {
     "data": {
      "text/plain": [
       "('Anyone Else Out There Choosing 100 Alternative',\n",
       " [\"He is, was a compatriot of Ernest Zundel. \\xa0An an extremist holocast denier who was deported by Canada to Germany to face trial for his hate spreading. \\xa0Zundel is an evil man. \\xa0Tend to hang with similar types. \\xa0I don't think BCO members want to associate themselves with such folk. \\xa0Just sayin'. \\xa0His theories have just as much validity as holocast denial, and we should, as a group disassociate ourselves from them.\",\n",
       "  'This discussion has been going on since at least February 2010 and maybe even 2007 ( I am not as good at searching this website as I should be). \\xa0I thought I remembered this dust up.\\xa0https://community.breastcancer.org/forum/7/topic/692216?page=2',\n",
       "  'In response to the original question, of has anyone tried strictly Alternative solution to breast cancer: \\xa0My grandmother was diagnosed with breast cancer in the early 70\\'s. \\xa0She was stage IV when diagnosed and the doctors had no suggestions for anything other than getting her affairs in order. \\xa0So she tried about every alternative solution she could come up with. \\xa0 My mother fetched fresh spring water for her to drink, she (my grandmother) went to Mexico to a clinic down there to receive laetrile treatments, I cannot recall the other myriad of things they tried, but she died 1 year and 3 months after diagnosis. \\xa0When my mother was diagnosed in the early 90\\'s, she went with the \"standard of care\" recommended by her doctor. \\xa0I believe she was stage I. \\xa0She lived to 2004 and died of anaphylactic shock - nothing to do with breast cancer. \\xa0When my aunt was diagnosed with breast cancer, she also went with \"standard of care\" and additionally added in supplementals. \\xa0She was also Stage IV when diagnosed, but she did live over 15 years before succumbing to breast cancer.When I was first diagnosed with breast cancer (stage II) \\xa0I met a woman at the health food store who was going strictly alternative (stage III). \\xa0I\\'ve often wondered what her result was. \\xa0Unfortunately, we didn\\'t keep in touch, but I sincerely hope it worked for her and she is doing well.I personally chose to go with the \"standard of care\" and add in supplementals, healthy eating and exercise. \\xa0Though I\\'ve been attempting to lose weight, that hasn\\'t been very successful for me.I\\'m not saying that alternative is wrong and \"regular\" medicine is right - I only am stating what was experienced in my family.',\n",
       "  'Bronx, I am with you on that. I will earnestly approach anything that may have a benefit, and when I first heard of Hamer, I looked into it. What I found made me sick to my stomach. Obviously the poor guy had a terrible thing happen to him, and it seems like it made him lose his mind. Also, Ronald/Alice is the ex-boyfriend of someone with breast cancer. What is he even doing here?',\n",
       "  'It is not \"silly\" to suggest that Hamer needs a psychiatrist.',\n",
       "  \"Alice, They took his medical license, as far as I know.\\xa0If I insist that you have a hoard of gold hidden somewhere, how will you prove that you don't?\",\n",
       "  'The onus is not on others to disprove GNM which has never been proven , but on Herr Hamer to prove it in the first place (and making a decision not to disprove does not prove). Of course, then he would also need to comply with the ethical standards and other guidelines that apply to clinical cancer trials. Which definitely do not mean for short, and fast trials.',\n",
       "  'I would also like to see copies of these supposed court orders, because all I can find is claims of their existence on his own website, and information about a court order that ordered a child he had been \"treating\" to receive conventional treatments.',\n",
       "  \"Alice, you are evading the question. I have no idea why you are even posting here.There is NO evidence of any kind that Hamer's theory is correct. Hamer has offered no proof that his theory is correct and most of his patients have died.I am glad that your ex-GF is well. I doubt Hamer's insanity has anything to do with it.\",\n",
       "  'Nor have I come to understand why his \"new medicine\" must be taken with a dose of ant-Semitism and other sundry bits of rascism and history denial. Still glad for your ex. Though',\n",
       "  \"We've decided to close and lock this thread for the time being, as it continues to bring up very contentious issues, without any sight of resolution. \\xa0Thank you for your understanding.\"])"
      ]
     },
     "execution_count": 2,
     "metadata": {},
     "output_type": "execute_result"
    }
   ],
   "source": [
    "alternative_medicine = df.groupby('thread_title')['comment_text'].apply(list).to_dict()\n",
    "next(iter(alternative_medicine)),next(iter(alternative_medicine.values()))"
   ]
  },
  {
   "cell_type": "code",
   "execution_count": 10,
   "id": "89e49bd8",
   "metadata": {},
   "outputs": [],
   "source": [
    "from sklearn.feature_extraction.text import TfidfVectorizer\n",
    "import pandas as pd\n",
    "\n",
    "def extract_keywords_tfidf(thread_dict, top_n=5):\n",
    "    \"\"\"\n",
    "    Extracts TF-IDF keywords for each thread in a dictionary (English).\n",
    "    \n",
    "    Parameters:\n",
    "        thread_dict (dict): dictionary {thread_name: [list of sentences]}\n",
    "        top_n (int): number of keywords to retrieve per thread\n",
    "    \n",
    "    Returns:\n",
    "        dict: {thread_name: [list of keywords]}\n",
    "    \"\"\"\n",
    "    # Merge sentences into a single text per thread\n",
    "    documents = {thread: \" \".join(comments) for thread, comments in thread_dict.items()}\n",
    "    \n",
    "    # TF-IDF with built-in English stopwords\n",
    "    vectorizer = TfidfVectorizer(stop_words=\"english\")\n",
    "    X = vectorizer.fit_transform(documents.values())\n",
    "    \n",
    "    # Convert to DataFrame for easier manipulation of scores\n",
    "    df = pd.DataFrame(\n",
    "        X.toarray(),\n",
    "        index=[str(thread) for thread in documents.keys()],\n",
    "        columns=vectorizer.get_feature_names_out()\n",
    "    )\n",
    "    \n",
    "    # Extract top keywords for each thread\n",
    "    keywords = {}\n",
    "    for thread in df.index:\n",
    "        sorted_words = df.loc[thread].sort_values(ascending=False)\n",
    "        keywords[thread] = list(sorted_words.head(top_n).index)\n",
    "    \n",
    "    return keywords\n"
   ]
  },
  {
   "cell_type": "code",
   "execution_count": 4,
   "id": "f6de8092",
   "metadata": {},
   "outputs": [],
   "source": [
    "keywords_alternative_medicine=extract_keywords_tfidf(alternative_medicine,top_n=8)"
   ]
  },
  {
   "cell_type": "code",
   "execution_count": 5,
   "id": "f0f29a36",
   "metadata": {},
   "outputs": [
    {
     "data": {
      "application/vnd.jupyter.widget-view+json": {
       "model_id": "ea53234dbc4a4698853f1f6fc154f1af",
       "version_major": 2,
       "version_minor": 0
      },
      "text/plain": [
       "Dropdown(description='Threads:', layout=Layout(width='400px'), options=('Anyone Else Out There Choosing 100 Al…"
      ]
     },
     "metadata": {},
     "output_type": "display_data"
    },
    {
     "data": {
      "application/vnd.jupyter.widget-view+json": {
       "model_id": "f0913cfbe867470183e642cedab6493c",
       "version_major": 2,
       "version_minor": 0
      },
      "text/plain": [
       "Output()"
      ]
     },
     "metadata": {},
     "output_type": "display_data"
    }
   ],
   "source": [
    "import ipywidgets as widgets\n",
    "from IPython.display import display, Markdown\n",
    "\n",
    "def visualize_thread_keywords(thread_keywords):\n",
    "    \"\"\"\n",
    "    Create an interactive widget to display keywords per thread.\n",
    "    \n",
    "    Parameters:\n",
    "        thread_keywords (dict): {thread_name: [list of keywords]}\n",
    "    \"\"\"\n",
    "    # Dropdown with thread names\n",
    "    dropdown = widgets.Dropdown(\n",
    "        options=list(thread_keywords.keys()),\n",
    "        description=\"Threads:\",\n",
    "        disabled=False,\n",
    "        layout=widgets.Layout(width='400px')\n",
    "    )\n",
    "\n",
    "    # Output area to display keywords\n",
    "    output = widgets.Output()\n",
    "\n",
    "    # Function to update output when dropdown changes\n",
    "    def on_change(change):\n",
    "        if change['type'] == 'change' and change['name'] == 'value':\n",
    "            output.clear_output()\n",
    "            thread_name = change['new']\n",
    "            keywords = thread_keywords[thread_name]\n",
    "            with output:\n",
    "                display(Markdown(f\"**Keywords for '{thread_name}':**\"))\n",
    "                display(Markdown(\", \".join(keywords)))\n",
    "\n",
    "    dropdown.observe(on_change)\n",
    "\n",
    "    # Display dropdown and output\n",
    "    display(dropdown, output)\n",
    "    \n",
    "    # Initialize first display\n",
    "    dropdown.value = list(thread_keywords.keys())[0]\n",
    "\n",
    "\n",
    "visualize_thread_keywords(keywords_alternative_medicine) \n"
   ]
  },
  {
   "cell_type": "code",
   "execution_count": 6,
   "id": "9b7b9cf9",
   "metadata": {},
   "outputs": [
    {
     "data": {
      "text/plain": [
       "dict_keys(['Alternative Medicine', 'Breast Reconstruction', 'Chemotherapy - Before, During, and After', 'Clinical Trials, Research News, Podcasts, and Study Results', 'Complementary and Holistic Medicine and Treatment', 'Hormonal Therapy - Before, During, and After', 'Immunotherapy - Before, During, and After', 'Living Without Reconstruction After a Mastectomy', 'Managing Side Effects of Breast Cancer and Its Treatment', 'Radiation Therapy - Before, During, and After', 'Surgery - Before, During, and After', 'Targeted Therapy - Before, During, and After'])"
      ]
     },
     "execution_count": 6,
     "metadata": {},
     "output_type": "execute_result"
    }
   ],
   "source": [
    "import os\n",
    "import pandas as pd\n",
    "\n",
    "# Dossier contenant les CSV\n",
    "folder = \"scraped_data_in_treatment\"\n",
    "\n",
    "# Dictionnaire pour stocker chaque DataFrame\n",
    "csv_databases = {}\n",
    "\n",
    "# Parcours de tous les fichiers CSV du dossier\n",
    "for filename in os.listdir(folder):\n",
    "    if filename.endswith(\".csv\"):\n",
    "        path = os.path.join(folder, filename)\n",
    "        # Nom de la database = nom du fichier sans extension\n",
    "        db_name = os.path.splitext(filename)[0]\n",
    "        csv_databases[db_name] = pd.read_csv(path)\n",
    "\n",
    "# Exemple d'accès : csv_databases[\"Alternative Medicine\"]\n",
    "csv_databases.keys()"
   ]
  },
  {
   "cell_type": "code",
   "execution_count": 7,
   "id": "3b277d28",
   "metadata": {},
   "outputs": [
    {
     "data": {
      "text/html": [
       "<div>\n",
       "<style scoped>\n",
       "    .dataframe tbody tr th:only-of-type {\n",
       "        vertical-align: middle;\n",
       "    }\n",
       "\n",
       "    .dataframe tbody tr th {\n",
       "        vertical-align: top;\n",
       "    }\n",
       "\n",
       "    .dataframe thead th {\n",
       "        text-align: right;\n",
       "    }\n",
       "</style>\n",
       "<table border=\"1\" class=\"dataframe\">\n",
       "  <thead>\n",
       "    <tr style=\"text-align: right;\">\n",
       "      <th></th>\n",
       "      <th>thread_title</th>\n",
       "      <th>comment_text</th>\n",
       "    </tr>\n",
       "  </thead>\n",
       "  <tbody>\n",
       "    <tr>\n",
       "      <th>0</th>\n",
       "      <td>Breast Reconstruction Revision</td>\n",
       "      <td>Hi! I am new to the forum. I was diagnosed in ...</td>\n",
       "    </tr>\n",
       "    <tr>\n",
       "      <th>1</th>\n",
       "      <td>Breast Reconstruction Revision</td>\n",
       "      <td>Hello @marea123, and welcome to Breastcancer.o...</td>\n",
       "    </tr>\n",
       "    <tr>\n",
       "      <th>2</th>\n",
       "      <td>Breast Reconstruction Revision</td>\n",
       "      <td>you’ll definitely want a plastic surgeon with ...</td>\n",
       "    </tr>\n",
       "    <tr>\n",
       "      <th>3</th>\n",
       "      <td>Breast Reconstruction Revision</td>\n",
       "      <td>Hello, I'm adding to Marea's question in a way...</td>\n",
       "    </tr>\n",
       "    <tr>\n",
       "      <th>4</th>\n",
       "      <td>Flap Reconstruction Decisions</td>\n",
       "      <td>Hello all!  I was diagnosed in 2012 and had a ...</td>\n",
       "    </tr>\n",
       "    <tr>\n",
       "      <th>...</th>\n",
       "      <td>...</td>\n",
       "      <td>...</td>\n",
       "    </tr>\n",
       "    <tr>\n",
       "      <th>2343</th>\n",
       "      <td>Implant After Radiation</td>\n",
       "      <td>Hello all,I had a mastectomy and then 16 round...</td>\n",
       "    </tr>\n",
       "    <tr>\n",
       "      <th>2344</th>\n",
       "      <td>Implant After Radiation</td>\n",
       "      <td>I had a bilateral, direct to implant mastectom...</td>\n",
       "    </tr>\n",
       "    <tr>\n",
       "      <th>2345</th>\n",
       "      <td>Implant After Radiation</td>\n",
       "      <td>I had a mastectomy in July, 2021 followed by 5...</td>\n",
       "    </tr>\n",
       "    <tr>\n",
       "      <th>2346</th>\n",
       "      <td>Implant After Radiation</td>\n",
       "      <td>Hi Brooklyn,I am probably too late in replying...</td>\n",
       "    </tr>\n",
       "    <tr>\n",
       "      <th>2347</th>\n",
       "      <td>Implant Got Infected</td>\n",
       "      <td>I have not been here in a while.  Three years ...</td>\n",
       "    </tr>\n",
       "  </tbody>\n",
       "</table>\n",
       "<p>2348 rows × 2 columns</p>\n",
       "</div>"
      ],
      "text/plain": [
       "                        thread_title  \\\n",
       "0     Breast Reconstruction Revision   \n",
       "1     Breast Reconstruction Revision   \n",
       "2     Breast Reconstruction Revision   \n",
       "3     Breast Reconstruction Revision   \n",
       "4      Flap Reconstruction Decisions   \n",
       "...                              ...   \n",
       "2343         Implant After Radiation   \n",
       "2344         Implant After Radiation   \n",
       "2345         Implant After Radiation   \n",
       "2346         Implant After Radiation   \n",
       "2347            Implant Got Infected   \n",
       "\n",
       "                                           comment_text  \n",
       "0     Hi! I am new to the forum. I was diagnosed in ...  \n",
       "1     Hello @marea123, and welcome to Breastcancer.o...  \n",
       "2     you’ll definitely want a plastic surgeon with ...  \n",
       "3     Hello, I'm adding to Marea's question in a way...  \n",
       "4     Hello all!  I was diagnosed in 2012 and had a ...  \n",
       "...                                                 ...  \n",
       "2343  Hello all,I had a mastectomy and then 16 round...  \n",
       "2344  I had a bilateral, direct to implant mastectom...  \n",
       "2345  I had a mastectomy in July, 2021 followed by 5...  \n",
       "2346  Hi Brooklyn,I am probably too late in replying...  \n",
       "2347  I have not been here in a while.  Three years ...  \n",
       "\n",
       "[2348 rows x 2 columns]"
      ]
     },
     "execution_count": 7,
     "metadata": {},
     "output_type": "execute_result"
    }
   ],
   "source": [
    "csv_databases['Breast Reconstruction']"
   ]
  },
  {
   "cell_type": "code",
   "execution_count": 8,
   "id": "bf641c36",
   "metadata": {},
   "outputs": [
    {
     "data": {
      "text/plain": [
       "dict_keys(['2 Yrs After Diep', '2018 Diep Surgery', '3 Step Reconstruction', '3D Tattoo Vs Nipple Reconstruction Or Both', 'Abdominal Bulge After Tram Flap', 'Acellular Dermal Matrix Adm With Your Mastecomy Reconstruction', 'Advice On Explant Diep Surgery', 'After Flap Reconstruction Complications More Likely In Women With Higher Bmi', 'Am I Crazy To Consider A Diep This Far Out', 'Any Regrets Nipple Sparing Or Skin Sparing Reconstruction', 'Anyone Else W Infection After Fat Transfer', 'Anyone Had A Strange Acting Infection After Tissue Expanders', 'Anyone Had Omental Flap Reconstruction', 'Anyone Have Experience With Cupping Massage', 'Anyone Heard Of The Swim Breast Reconstruction Technique', 'Anyone Lumpy After Diep', 'Anyone Need A Touch Up After Tattoo', 'Anyone Wiht Nipple Discharge After Nsm Told Possible Dcis Cells', 'Anyones Expander Rotate Swelling After Exchange', 'Athletics Exercise And Rehab After Masctectomy', 'Best Options For Pain Management', 'Bia Alcl Symptoms', 'Black Nipple', 'Bmi During Fat Graft', 'Bra After Reconstruction 5 Years Out', 'Bra Recommendations', 'Bras 101 The Great Post Exchange Debate', 'Bras While Waiting For Exchange', 'Brava Or Other Enhancement Systems', 'Breast Implant Issues', 'Breast Implant Sizing 101', 'Breast Implants', 'Breast Implants Impacting Sleep', 'Breast Implants Itching', 'Breast Pain When Wearing A Bra Swimsuit', 'Breast Recon Implants Successful Stories After Radiation', 'Breast Reconstruction', 'Breast Reconstruction At Usc', 'Breast Reconstruction Complication Radiated Breast', 'Breast Reconstruction Experience', 'Breast Reconstruction Revision', 'Breast Reconstruction Surgeon Recommendation In Los Angeles', 'Breast Reconstruction Which Option Is Best Especially If You Had Radiation', 'Breast Reconstruction With Latissimus Dorsi Flap', 'Breast Skin And Scar After Surgery And Reconstruction', 'Breast Warmer Bra Inserts For Mastectomy Patients', 'Bump Over Te', 'Cases Of Bia Alcl May Be More Than Double Fda Estimates', 'Center For Restorative Breast Surgery Center', 'Change Of Insurance During Revisions', 'Changing Plastic Surgeons', 'Checking Implant Integrity', 'Chest Pain', 'Cms Will Maintain Breast Reconstruction Codes', 'Complicated Breast Reconstruction Due To Necrosis', 'Concerned About Possible Symptoms', 'Cording From Below Expander Into Ribs', 'Crutch In Armpit', 'Deciding On Your Implant Location Subpectoral Or Prepectoral', 'Decorative Artist Tattoo On Reconstructed Foobs', 'Decorative Tattoos Over Mastectomy Reconstruction', 'Delayed Direct To Implant Re Construction', 'Deleted', 'Diep And Abdominal Swelling', 'Diep And Seroma', 'Diep Flap And Mastopexy Questions', 'Diep Flap Reconstruction 2016', 'Diep Flap Reconstruction 2017', 'Diep Flap Surgery After 10 Year Old Implant Removal', 'Diep Flap Surgery And Recovery Suggestions', 'Diep Flap Survelliance', 'Diep Supporting Core Muscles Long Term After Surgery', 'Diep Tight Abdomen', 'Diep Versus Implant', 'Diep Vs Implants After Partial Mastectomy And Mammoplasty', 'Direct To Implant Plastic Surgeons Only Want To Do Prepectoral', 'Dispensing Reconstruction Revision Needed Denver Co', 'Does Anyone Have Experience With Dr David Otterburn In Nyc', 'Does Insurance Cover Nipple Tattooing', 'Downsizing', 'Dr Andrew Da Lio At Ucla Med Ctr', 'Dr Budd Plastic Surgery', 'Drain Tube Still In After 3 Weeks', 'Esthetic Flat Closure Question', 'Exchange City', 'Expanders And Expansions', 'Expanders Size Implants Final Size', 'Experience Removing Implants Going Flat', 'Experiences With Flap Reconstruction', 'Explant Surgery', 'Fat Graft Entire Breast', 'Fat Grafting After Going Flat', 'Fat Grafting Before Expander Fills', 'Fat Grafting For Reconstruction After Implant Loss', 'Fat Grafting Pros And Cons', 'Fat Grafting Transfer Any Post Op Advice', 'Fat Transfer Using Liposuction', 'Finally Going For Consult To Finish Up What I Started', 'Flap Reconstruction Decisions', 'Flap Versus Implant Reconstruction', 'Flat Vs Flap', 'Flipping Implant', 'Follow My Brava And Fat Grafting Day By Day', 'For Those Who Have Had Or Plan To Have Diep Surgery In Boston', 'Free Nipple Tattooing In San Antonio Texas', 'Frustrated With Non Answers', 'Getting An Implant After Radiation And Subsequent Mastectomy', 'Going Flat After Reconstruction', 'Going From Under The Muscle Implants To Over The Muscle', 'Gummy Bear Implants Anyone Have Them', 'Has Anyone Gotten The Newer Mentor Boost Implants', 'Healing Following Bmx With Reconstruction', 'Health Concerns Of Allergan Textured Implants', 'Hello And Thanks In Advance', 'Help Needing Info On Latissimus Dorsi With Implant', 'How Long After Te Placement Until Can You Be Out And About', 'How Many Ccs Per Fill Typically', 'How Much Do Tissue Expanders Weigh', 'How Often Do You Get An Mri To Check On The Integrity Of Your Implants If At All', 'How To Manipulate Flipped Implant', 'Hybrid Diep Implants', 'I Feel Like There Is No Way Im The Only One Going Thru This', 'Immediate Reconstruction Minus Nipples', 'Immediate Reconstruction Or Wait', 'Implant After Radiation', 'Implant Exchange', 'Implant Exchange Oyo Anyone Go Stay Small B Cup', 'Implant Got Infected', 'Implant Infection After 10 Months', 'Implant Reconstruction After Radiation', 'Implant Removal', 'Implant Surgery Tomorrow Questions', 'Implant Vs Diep Flap Reconstruction', 'Implants After Radiation Or Go Flat', 'Implants And Reconstruction I Need Advice', 'Implants Does Your Foobs Get Itchy', 'Implants Uncomfortable And Questions About Saving My Natural Nipple', 'Implants Under The Skin Or Under The Chest Muscle', 'Implants When You Have To Have Radiation', 'Implants With Known Autoimmune Illness', 'Infection After Mastectomy With Tissue Expanders', 'Inner Thigh Flap Tug Anyone', 'Insurance And Mris On Silicone Implants', 'Insurance Companies Set To End Coverage For Diep Flap Surgery', 'Is Future Implant Replacement Covered By Insurance', 'Is It Safe To Go A Long Flight After Mastectomy With Reconstruction', 'Is Symmetry Possible With Smx Perky Remaining Breast', 'Is This Silly', 'Is Your Diep Breast Hard Or Soft', 'Iso A Really Skilled Surgeon', 'Itching Under Implant', 'Itchy Chest Wall 2 Yrs After Reconstruction', 'John Hopkins Ask An Expert', 'Just Diagnosed 2Nd Primary Same Breast 16 Years Later', 'Just Had Fat Grafting', 'Largest Cc For Direct To Implant', 'Latissimus Dorsi Breast Reconstruction', 'Latissimus Dorsi Flap', 'Latissimus Dorsi Flap Reconstruction After Surgery', 'Ld Flap Pain 2 Years Later', 'Ld Flap Yes Or No And Why', 'Ldf', 'Leak In Implant', 'Lipofilling Or Implants', 'Long Shot Diep Experience With Drs Cacioppo And Cohen In Indianapolis', 'Looking For A Surgeon', 'Looking For Recommendations For Plastic Surgeons In Massachusetts', 'Lymphoma From Implants', 'Mastectomy And Reconstruction Photos', 'Mentor Implants Ruptured After Only 3 Yrs', 'Microfat Grafting Or Brava Doctor Recommendations', 'Moving On After The Flap', 'Mri To Screen Silicone Implants For Rupture Covered By Medicare', 'Mris On Silicone Implants', 'Msk Plastic Surgeons', 'Natrelle Inspira Cohesive Gummy', 'Nerve Pain', 'New Bco Content Oncoplastic Lumpectomy', 'New Implants Not Satisfied', 'New York Or New Jersey Plastic Surgeons Proficient At Stacked Diep', 'Nipple Reconstruction', 'Nipple Reconstruction From Inner Thigh', 'Nipple Reinnervation Nerve Grafting', 'Nipple Saving Or Not', 'Nipple Sparing Double Mastectomy', 'Nipple Sparing Mastectomy', 'Nipple Sparing Mastectomy With Immediate Reconstruction', 'Nipple Tattoo', 'Nipple Tattoos In Ohio', 'Nola In September', 'Northeast Ohio Plastic Surgeon Recommendations', 'Not Happy With Expander Size And What About Implants', 'Not So Good Surprises In Diep Surgery And Recovery', 'Not Sure What I Want To Do Ideas', 'Obesity Going Into Diep Reconstruction', 'Ofaff Omental Free Flap Reconstruction', 'On The Fence About Reconstruction And Getting A Little Desperate', 'One Step Implant Procedure With Alloderm Anyone', 'Options For Reconstruction When Youve Had Radiation Previously', 'Overfilling 400 Cc Tissue Expanders', 'Pain Around Implants Long After Surgery Anyone Else', 'Pain In Only One Expander', 'Pain Of Capsular Contracture', 'Pain Starting Years After Diep', 'Pap Flap Reconstruction And Recovery', 'Pec Tear During Expander Placement Anyone', 'Penn Hospital Mi Diep W Dr Kanchwala Had Anyone', 'People Who Have Had Tes Lump Where Your Port Used To Be', 'Philadelphia Plastic Surgery', 'Picture Forum', 'Pictures Of Breast Reconstruction', 'Plastic Reconstruction Surgeon Recommendation In Los Angeles', 'Plastic Surgeon In Maine Recommendations For Treatment Of Capsular Contracture', 'Plastic Surgeon Recommendation At Mskcc', 'Plastic Surgeon Recommendation Nyc', 'Plastic Surgeon Recommendations In Southwest Florida', 'Podcast Reconstruction Options After Lumpectomy', 'Podcast Talking To Your Doctor About Going Flat', 'Podcast Treatments For Implant Associated Anaplastic Large Cell Lymphoma', 'Positive Experience With Implants', 'Post Diep Tummy Muscle Strength', 'Pre Pec Reconstruction After Radiation Surgeon Reccomendations', 'Preparing For Reconstruction Weighing Options Re Fat Grafting', 'Prepectoral Implants Going Back To Sub Muscular', 'Problems With Implants', 'Prosthetics Prior To Reconstruction Insurance', 'Ps Appointment Today One And Done', 'Purple Nipple', 'Question For Those Who Have Implant Reconstruction', 'Questions And Any Advice For Straight To Implant Reconstruction', 'Radiated Skin Wound Not Healing', 'Radiation And Expanders Then Implants', 'Rbs Red Breast Syndrome', 'Re Explanting And Going Flat', 'Ready For Stage Ii Diep Need Advice', 'Recommended Plastic Surgeons In Connecticut Or New York', 'Reconstruction After Lumpectomy', 'Reconstruction After Radiation In Covid', 'Reconstruction Decisions', 'Reconstruction Opt Implants Prior To Diagnosis 2019 Lumpectomy And Radiation New Second Cancer', 'Reconstruction Plane Change From Under Muscle To Over Muscle', 'Reconstruction Revision After Rupture Advise Please', 'Reconstruction Revision Due To Necrosis', 'Reconstruction Revision Surgery', 'Reconstruction Without Sling', 'Recovery From Fat Grafting', 'Recovery Time For Expander Placement', 'Recovery Time For Implant Reconstruction', 'Recurring Capsular Contracture', 'Red Spot', 'Removing Pre Cancer Implants During Lumpectomy', 'Repeat Surgeries Please Share Your Experience', 'Replacing Breast Implants', 'Replacing Implants After 15 Years', 'Revision Corrective Reconstruction Surgery Whats Your Experience', 'Revision Experience Diep', 'Revision From Subpectoral To Prepectoral', 'Revision Surgery Swapping Utm To Otm', 'Revision Surgery When To Have Nipple Recon', 'Right Side Delayed Latissimus Dorsi Flap With Left Side Preventive Mastectomy And Implants', 'Rupture Replacement', 'Ruptured Implant', 'Sad And Disappointed Following Implant Surgery', 'Saline Implants', 'Same Surgeon For Mastectomy And Reconstruction', 'Scar Tissue', 'Scared I Will Hate How I Look No Matter What', 'Seeking Advice On Breast Reconstruction After Tnbc Recurrence', 'Seeking Diep Recovery Stories', 'Sgap 15 Years Out', 'Share Your Insurance Claims Denial Story', 'Shattered Failed Re Excision', 'Should I Consider Delaying Pedicled Tram Flap Surgery If It Means I Can Have A Diep Flap Instead', 'Sickle Cell Trait And Diep Flap Reconstruction Surgery', 'Silicone Implant Removal 10 Years Post Op', 'Silicone Implants Sub Pec Vs Pre Pec', 'Single Mx And Matching Natural Breast', 'Size 550Cc Or 600Cc', 'Sizing Questions And Saying Hello', 'Skin Too Stretched Out', 'Sports Bras For Running', 'Squeaking Implant', 'Stacked Diep Or Latissimus Dorsi', 'Sub Muscular Silicone Implant Rupture', 'Sub Pectoral Tissue Expanders', 'Successful Reconstruction After Losing Tes To Infection', 'Surgeons In Ny Ct Nj Area That Do Mastectomy Brava Expansion System Fat Grafting Reconstruction', 'Surgery December 29Th Exchange With Fat Transfer', 'Te Implant Over Pectoral Can Exercise Comfortable No Ripples', 'Te Trouble', 'Ten Years Later Painful Lump Under Implant', 'Terrible Pain From Tissue Expanders', 'Tes A Beginners Primer', 'The Finishing Touch', 'The Iron Bra', 'The Itty Bitty Titty Committee', 'Thinking About Reconstruction Start Here', 'Three Stage Diep', 'Tight Pectoral Muscles And Shoulder And Arm Pain', 'Time From Te Surgery To First Fill', 'Time To Replace Implants', 'Timing Of Surgery To Swap Out Tissue Expander', 'Tips Tricks To Heal Incisions After Radiation', 'Tissue Expander Placement Surgery How Painful', 'To Have Reconstruction Or Not To Have', 'Told To Quite Endocrine Therapy For Diep', 'Traveling For Mastectomy And Reconstruction', 'Trying To Decide If Dti Is The Way To Go', 'Underarm Tightness After Swap Fat Grafting', 'Uneven Nipples After Reconstruction', 'Unhappy With Areola Tattoo What Can Be Done', 'Unhappy With Reconstruction Pics Feedback Needed', 'Uni Mastectomy W Reconstruction Fail Infection Radiation', 'Unilateral Mastectomy And Reduction', 'Unilateral Mastectomy Reconstruction', 'Unusual Surgery Local Axillary Flap', 'Was Fat Grafting Worth It', 'Weakness And Spasms After Diep', 'Weight Gain Immediately After Exchange Surgery', 'Weird Breast Implant Tightness', 'What Are The Best Implant Types In 2022 Need To Decide Asap', 'What S Your Follow Up Care Plan With Implant Reconstruction', 'What To Expect After A Masectomy', 'Where Was Your Fat Grafted From', 'Which Implant Is Better', 'Who Has Had Both Implants And Diep', 'Will I Ever Sleep On My Stomach Again', 'Women More Satisfied When Breast Reconstruction Uses Their Own Tissue', 'Zenn Delay Reconstruction'])"
      ]
     },
     "execution_count": 8,
     "metadata": {},
     "output_type": "execute_result"
    }
   ],
   "source": [
    "df = csv_databases['Breast Reconstruction']\n",
    "df\n",
    "thread_dict = df.groupby('thread_title')['comment_text'].apply(list).to_dict()\n",
    "thread_dict.keys()"
   ]
  },
  {
   "cell_type": "code",
   "execution_count": 9,
   "id": "5b68612f",
   "metadata": {},
   "outputs": [
    {
     "name": "stdout",
     "output_type": "stream",
     "text": [
      "Alternative Medicine\n",
      "ok\n",
      "Breast Reconstruction\n",
      "ok\n"
     ]
    },
    {
     "ename": "TypeError",
     "evalue": "sequence item 0: expected str instance, float found",
     "output_type": "error",
     "traceback": [
      "\u001b[1;31m---------------------------------------------------------------------------\u001b[0m",
      "\u001b[1;31mTypeError\u001b[0m                                 Traceback (most recent call last)",
      "Cell \u001b[1;32mIn[9], line 9\u001b[0m\n\u001b[0;32m      7\u001b[0m     \u001b[38;5;28mprint\u001b[39m(\u001b[38;5;124m'\u001b[39m\u001b[38;5;124mok\u001b[39m\u001b[38;5;124m'\u001b[39m)\n\u001b[0;32m      8\u001b[0m     \u001b[38;5;66;03m# Extraire les mots-clés\u001b[39;00m\n\u001b[1;32m----> 9\u001b[0m     keywords_per_database[db_name] \u001b[38;5;241m=\u001b[39m \u001b[43mextract_keywords_tfidf\u001b[49m\u001b[43m(\u001b[49m\u001b[43mthread_dict\u001b[49m\u001b[43m,\u001b[49m\u001b[43m \u001b[49m\u001b[43mtop_n\u001b[49m\u001b[38;5;241;43m=\u001b[39;49m\u001b[38;5;241;43m8\u001b[39;49m\u001b[43m)\u001b[49m\n\u001b[0;32m     11\u001b[0m \u001b[38;5;66;03m# keywords_per_database contient les mots-clés pour chaque database\u001b[39;00m\n\u001b[0;32m     12\u001b[0m \u001b[38;5;66;03m# Exemple d'accès : keywords_per_database[\"Alternative Medicine\"]\u001b[39;00m\n",
      "Cell \u001b[1;32mIn[3], line 16\u001b[0m, in \u001b[0;36mextract_keywords_tfidf\u001b[1;34m(thread_dict, top_n)\u001b[0m\n\u001b[0;32m      5\u001b[0m \u001b[38;5;250m\u001b[39m\u001b[38;5;124;03m\"\"\"\u001b[39;00m\n\u001b[0;32m      6\u001b[0m \u001b[38;5;124;03mExtracts TF-IDF keywords for each thread in a dictionary (English).\u001b[39;00m\n\u001b[0;32m      7\u001b[0m \u001b[38;5;124;03m\u001b[39;00m\n\u001b[1;32m   (...)\u001b[0m\n\u001b[0;32m     13\u001b[0m \u001b[38;5;124;03m    dict: {thread_name: [list of keywords]}\u001b[39;00m\n\u001b[0;32m     14\u001b[0m \u001b[38;5;124;03m\"\"\"\u001b[39;00m\n\u001b[0;32m     15\u001b[0m \u001b[38;5;66;03m# Merge sentences into a single text per thread\u001b[39;00m\n\u001b[1;32m---> 16\u001b[0m documents \u001b[38;5;241m=\u001b[39m \u001b[43m{\u001b[49m\u001b[43mthread\u001b[49m\u001b[43m:\u001b[49m\u001b[43m \u001b[49m\u001b[38;5;124;43m\"\u001b[39;49m\u001b[38;5;124;43m \u001b[39;49m\u001b[38;5;124;43m\"\u001b[39;49m\u001b[38;5;241;43m.\u001b[39;49m\u001b[43mjoin\u001b[49m\u001b[43m(\u001b[49m\u001b[43mcomments\u001b[49m\u001b[43m)\u001b[49m\u001b[43m \u001b[49m\u001b[38;5;28;43;01mfor\u001b[39;49;00m\u001b[43m \u001b[49m\u001b[43mthread\u001b[49m\u001b[43m,\u001b[49m\u001b[43m \u001b[49m\u001b[43mcomments\u001b[49m\u001b[43m \u001b[49m\u001b[38;5;129;43;01min\u001b[39;49;00m\u001b[43m \u001b[49m\u001b[43mthread_dict\u001b[49m\u001b[38;5;241;43m.\u001b[39;49m\u001b[43mitems\u001b[49m\u001b[43m(\u001b[49m\u001b[43m)\u001b[49m\u001b[43m}\u001b[49m\n\u001b[0;32m     18\u001b[0m \u001b[38;5;66;03m# TF-IDF with built-in English stopwords\u001b[39;00m\n\u001b[0;32m     19\u001b[0m vectorizer \u001b[38;5;241m=\u001b[39m TfidfVectorizer(stop_words\u001b[38;5;241m=\u001b[39m\u001b[38;5;124m\"\u001b[39m\u001b[38;5;124menglish\u001b[39m\u001b[38;5;124m\"\u001b[39m)\n",
      "Cell \u001b[1;32mIn[3], line 16\u001b[0m, in \u001b[0;36m<dictcomp>\u001b[1;34m(.0)\u001b[0m\n\u001b[0;32m      5\u001b[0m \u001b[38;5;250m\u001b[39m\u001b[38;5;124;03m\"\"\"\u001b[39;00m\n\u001b[0;32m      6\u001b[0m \u001b[38;5;124;03mExtracts TF-IDF keywords for each thread in a dictionary (English).\u001b[39;00m\n\u001b[0;32m      7\u001b[0m \u001b[38;5;124;03m\u001b[39;00m\n\u001b[1;32m   (...)\u001b[0m\n\u001b[0;32m     13\u001b[0m \u001b[38;5;124;03m    dict: {thread_name: [list of keywords]}\u001b[39;00m\n\u001b[0;32m     14\u001b[0m \u001b[38;5;124;03m\"\"\"\u001b[39;00m\n\u001b[0;32m     15\u001b[0m \u001b[38;5;66;03m# Merge sentences into a single text per thread\u001b[39;00m\n\u001b[1;32m---> 16\u001b[0m documents \u001b[38;5;241m=\u001b[39m {thread: \u001b[38;5;124m\"\u001b[39m\u001b[38;5;124m \u001b[39m\u001b[38;5;124m\"\u001b[39m\u001b[38;5;241m.\u001b[39mjoin(comments) \u001b[38;5;28;01mfor\u001b[39;00m thread, comments \u001b[38;5;129;01min\u001b[39;00m thread_dict\u001b[38;5;241m.\u001b[39mitems()}\n\u001b[0;32m     18\u001b[0m \u001b[38;5;66;03m# TF-IDF with built-in English stopwords\u001b[39;00m\n\u001b[0;32m     19\u001b[0m vectorizer \u001b[38;5;241m=\u001b[39m TfidfVectorizer(stop_words\u001b[38;5;241m=\u001b[39m\u001b[38;5;124m\"\u001b[39m\u001b[38;5;124menglish\u001b[39m\u001b[38;5;124m\"\u001b[39m)\n",
      "\u001b[1;31mTypeError\u001b[0m: sequence item 0: expected str instance, float found"
     ]
    }
   ],
   "source": [
    "# Appliquer extract_keywords_tfidf à chaque database\n",
    "keywords_per_database = {}\n",
    "for db_name, df in csv_databases.items():\n",
    "    # Créer le dictionnaire {thread_title: [list of comment_text]}\n",
    "    print(db_name)\n",
    "    thread_dict = df.groupby('thread_title')['comment_text'].apply(list).to_dict()\n",
    "    print('ok')\n",
    "    # Extraire les mots-clés\n",
    "    keywords_per_database[db_name] = extract_keywords_tfidf(thread_dict, top_n=8)\n",
    "\n",
    "# keywords_per_database contient les mots-clés pour chaque database\n",
    "# Exemple d'accès : keywords_per_database[\"Alternative Medicine\"]"
   ]
  }
 ],
 "metadata": {
  "kernelspec": {
   "display_name": "Python 3",
   "language": "python",
   "name": "python3"
  },
  "language_info": {
   "codemirror_mode": {
    "name": "ipython",
    "version": 3
   },
   "file_extension": ".py",
   "mimetype": "text/x-python",
   "name": "python",
   "nbconvert_exporter": "python",
   "pygments_lexer": "ipython3",
   "version": "3.11.9"
  }
 },
 "nbformat": 4,
 "nbformat_minor": 5
}
